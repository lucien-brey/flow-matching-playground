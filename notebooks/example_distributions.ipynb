{
 "cells": [
  {
   "cell_type": "code",
   "execution_count": null,
   "id": "0",
   "metadata": {},
   "outputs": [],
   "source": [
    "import matplotlib.pyplot as plt\n",
    "import numpy as np\n",
    "\n",
    "from problems.circular_gaussian import DOG\n",
    "\n",
    "%load_ext autoreload\n",
    "%autoreload 2"
   ]
  },
  {
   "cell_type": "code",
   "execution_count": null,
   "id": "1",
   "metadata": {},
   "outputs": [],
   "source": [
    "MU_1 = 0.0\n",
    "MU_2 = MU_1\n",
    "STD_1 = 15.0\n",
    "STD_2 = 17.0\n",
    "\n",
    "mu_1, mu_2 = np.array([MU_1, MU_1]), np.array([MU_1, MU_1])\n",
    "std_1, std_2 = np.array([[STD_1, 0], [0, STD_1]]), np.array([[STD_2, 0], [0, STD_2]])\n",
    "\n",
    "problem = DOG(mu_1=mu_1, mu_2=mu_2, std_1=std_1, std_2=std_2)"
   ]
  },
  {
   "cell_type": "code",
   "execution_count": null,
   "id": "2",
   "metadata": {},
   "outputs": [],
   "source": [
    "lower_bound = -20\n",
    "upper_bound = 20\n",
    "x = np.linspace(lower_bound, upper_bound)\n",
    "X, Y = np.meshgrid(x, x)\n",
    "Z = np.dstack((X, Y))\n",
    "values = problem(Z)"
   ]
  },
  {
   "cell_type": "code",
   "execution_count": null,
   "id": "3",
   "metadata": {},
   "outputs": [],
   "source": [
    "# Plot the heatmap\n",
    "plt.figure(figsize=(6, 5))\n",
    "plt.contourf(X, Y, values, levels=100, cmap=\"viridis\")\n",
    "plt.colorbar(label=\"Difference of Gaussians\")\n",
    "plt.title(\"2D Difference of Gaussians (DoG)\")\n",
    "plt.xlabel(\"X\")\n",
    "plt.ylabel(\"Y\")\n",
    "plt.axis(\"equal\")\n",
    "plt.show()"
   ]
  },
  {
   "cell_type": "code",
   "execution_count": null,
   "id": "4",
   "metadata": {},
   "outputs": [],
   "source": [
    "from scipy.optimize import minimize\n",
    "\n",
    "initial = [-2, 0]\n",
    "\n",
    "\n",
    "def neg_dog(X):\n",
    "    return -problem(X)\n",
    "\n",
    "\n",
    "# Find maximum\n",
    "res_max = minimize(neg_dog, initial)\n",
    "max_val = -res_max.fun\n",
    "max_loc = res_max.x"
   ]
  },
  {
   "cell_type": "code",
   "execution_count": null,
   "id": "5",
   "metadata": {},
   "outputs": [],
   "source": [
    "# sample initial dataset following MCMC approach\n",
    "\n",
    "# uniformly sample X on space\n",
    "train_X_size = 4000\n",
    "\n",
    "train_X = []\n",
    "\n",
    "# sample till getting enough points\n",
    "while len(train_X) < train_X_size:\n",
    "    _X = np.random.uniform(low=lower_bound, high=upper_bound, size=(100, 100, 2))\n",
    "    values = problem(_X)\n",
    "\n",
    "    # accept only the X\n",
    "    threshold = np.random.uniform(low=0.0, high=max_val, size=(100, 100))\n",
    "\n",
    "    mask = values > threshold\n",
    "    filtered_X = _X[mask]\n",
    "    train_X.extend(filtered_X)"
   ]
  },
  {
   "cell_type": "code",
   "execution_count": null,
   "id": "6",
   "metadata": {},
   "outputs": [],
   "source": [
    "t = np.stack(train_X[:train_X_size], axis=0)"
   ]
  },
  {
   "cell_type": "code",
   "execution_count": null,
   "id": "7",
   "metadata": {},
   "outputs": [],
   "source": [
    "len(t[:, 0])"
   ]
  },
  {
   "cell_type": "code",
   "execution_count": null,
   "id": "8",
   "metadata": {},
   "outputs": [],
   "source": [
    "fig = plt.figure(figsize=(7, 7))\n",
    "plt.scatter(t[:, 0], t[:, 1])"
   ]
  }
 ],
 "metadata": {
  "kernelspec": {
   "display_name": "flow-matching-playground",
   "language": "python",
   "name": "python3"
  },
  "language_info": {
   "codemirror_mode": {
    "name": "ipython",
    "version": 3
   },
   "file_extension": ".py",
   "mimetype": "text/x-python",
   "name": "python",
   "nbconvert_exporter": "python",
   "pygments_lexer": "ipython3",
   "version": "3.13.5"
  }
 },
 "nbformat": 4,
 "nbformat_minor": 5
}
